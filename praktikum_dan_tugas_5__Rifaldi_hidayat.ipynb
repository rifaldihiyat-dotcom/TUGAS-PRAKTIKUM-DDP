{
  "nbformat": 4,
  "nbformat_minor": 0,
  "metadata": {
    "colab": {
      "provenance": [],
      "authorship_tag": "ABX9TyMtCIV6OdCYaH/lAqgCBK6j",
      "include_colab_link": true
    },
    "kernelspec": {
      "name": "python3",
      "display_name": "Python 3"
    },
    "language_info": {
      "name": "python"
    }
  },
  "cells": [
    {
      "cell_type": "markdown",
      "metadata": {
        "id": "view-in-github",
        "colab_type": "text"
      },
      "source": [
        "<a href=\"https://colab.research.google.com/github/rifaldihiyat-dotcom/TUGAS-PRAKTIKUM-DDP/blob/main/praktikum_dan_tugas_5__Rifaldi_hidayat.ipynb\" target=\"_parent\"><img src=\"https://colab.research.google.com/assets/colab-badge.svg\" alt=\"Open In Colab\"/></a>"
      ]
    },
    {
      "cell_type": "code",
      "execution_count": null,
      "metadata": {
        "colab": {
          "base_uri": "https://localhost:8080/"
        },
        "id": "ptycIUzTco3h",
        "outputId": "edfbbd34-df35-4904-c9f4-d0218b5b5eca"
      },
      "outputs": [
        {
          "output_type": "stream",
          "name": "stdout",
          "text": [
            "data kendaraan: ['motor beat', 'motor', 'honda', 110, 'merah', 2, 15000000, 'matic']\n"
          ]
        }
      ],
      "source": [
        "# membuat variabel list dengan value\n",
        "kendaraan = [\"motor beat\",\"motor\",110,\"merah\",2]\n",
        "\n",
        "#penambahan list\n",
        "kendaraan.append(15000000)\n",
        "kendaraan.append(\"matic\")\n",
        "\n",
        "#penambahan di tengah\n",
        "kendaraan.insert(2,\"honda\")\n",
        "\n",
        "print(\"data kendaraan:\",kendaraan)"
      ]
    },
    {
      "cell_type": "code",
      "source": [
        "print(\"=== PROGRAM MENGHITUNG LUAS BANGUN DATAR ===\")\n",
        "print(\"1.masukan luas persegi :\")\n",
        "print(\"2.masukan luas lingkaran :\")\n",
        "print(\"1.masukan luas segitiga :\")\n",
        "\n",
        "pilihan = int(input(\"masukan pilihan :\"))\n",
        "\n",
        "match pilihan:\n",
        "  case 1 :\n",
        "    sisi = int(input(\"masukan sisi :\"))\n",
        "    luas = sisi * sisi\n",
        "    print(\"luas persegi :\",luas)\n",
        "  case 2 :\n",
        "    jari = int(input(\"masukan jari-jari :\"))\n",
        "    luas = 3.14 * jari * jari\n",
        "    print(\"luas lingkaran :\",luas)\n",
        "  case 3:\n",
        "    alas = int(input(\"masukan alas :\"))\n",
        "    tinggi = int(input(\"masukan tinggi :\"))\n",
        "    luas = 0.5 * alas * tinggi\n",
        "    print(\"luas segitiga :\",luas)\n",
        "  case _:\n",
        "    print(\"pilihan tidak tersedia\")"
      ],
      "metadata": {
        "colab": {
          "base_uri": "https://localhost:8080/"
        },
        "id": "z1F9pY2Xv68q",
        "outputId": "658de5de-9e6d-4504-be59-a3df55ea924e"
      },
      "execution_count": null,
      "outputs": [
        {
          "output_type": "stream",
          "name": "stdout",
          "text": [
            "=== PROGRAM MENGHITUNG LUAS BANGUN DATAR ===\n",
            "1.masukan luas persegi :\n",
            "2.masukan luas lingkaran :\n",
            "1.masukan luas segitiga :\n",
            "masukan pilihan :3\n",
            "masukan alas :14\n",
            "masukan tinggi :13\n",
            "luas segitiga : 91.0\n"
          ]
        }
      ]
    },
    {
      "cell_type": "code",
      "source": [
        "# PRAKTIKUM\n",
        "namakendaraan = \"Beat Ember\"\n",
        "jeniskendaraan = \"motor\"\n",
        "cckendaraan = 120\n",
        "rodakendaraan = 2\n",
        "\n",
        "data_kendaraan = [namakendaraan, jeniskendaraan, cckendaraan, rodakendaraan]\n",
        "print (data_kendaraan)\n",
        "hargakendaraan = 5000\n",
        "tipekendaraan = \"metic\"\n",
        "data_kendaraan.append(\"hargaKendaraan\")\n",
        "data_kendaraan.append(\"tipeKendaraan\")\n",
        "print(data_kendaraan)\n",
        "\n",
        "merkKendaraan = \"Honda\"\n",
        "data_kendaraan.insert(2, merkKendaraan)\n",
        "print(data_kendaraan)"
      ],
      "metadata": {
        "colab": {
          "base_uri": "https://localhost:8080/"
        },
        "id": "9VCRqz8d93Pu",
        "outputId": "02926d74-0c2e-4165-c068-8277c28a536a"
      },
      "execution_count": 14,
      "outputs": [
        {
          "output_type": "stream",
          "name": "stdout",
          "text": [
            "['Beat Ember', 'motor', 120, 2]\n",
            "['Beat Ember', 'motor', 120, 2, 'hargaKendaraan', 'tipeKendaraan']\n",
            "['Beat Ember', 'motor', 'Honda', 120, 2, 'hargaKendaraan', 'tipeKendaraan']\n"
          ]
        }
      ]
    }
  ]
}